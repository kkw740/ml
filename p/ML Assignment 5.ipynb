{
 "cells": [
  {
   "cell_type": "code",
   "execution_count": 2,
   "id": "b1532aa5",
   "metadata": {},
   "outputs": [
    {
     "data": {
      "text/html": [
       "<div>\n",
       "<style scoped>\n",
       "    .dataframe tbody tr th:only-of-type {\n",
       "        vertical-align: middle;\n",
       "    }\n",
       "\n",
       "    .dataframe tbody tr th {\n",
       "        vertical-align: top;\n",
       "    }\n",
       "\n",
       "    .dataframe thead th {\n",
       "        text-align: right;\n",
       "    }\n",
       "</style>\n",
       "<table border=\"1\" class=\"dataframe\">\n",
       "  <thead>\n",
       "    <tr style=\"text-align: right;\">\n",
       "      <th></th>\n",
       "      <th>Label</th>\n",
       "      <th>Message</th>\n",
       "    </tr>\n",
       "  </thead>\n",
       "  <tbody>\n",
       "    <tr>\n",
       "      <th>0</th>\n",
       "      <td>ham</td>\n",
       "      <td>Go until jurong point, crazy.. Available only ...</td>\n",
       "    </tr>\n",
       "    <tr>\n",
       "      <th>1</th>\n",
       "      <td>ham</td>\n",
       "      <td>Ok lar... Joking wif u oni...</td>\n",
       "    </tr>\n",
       "    <tr>\n",
       "      <th>2</th>\n",
       "      <td>spam</td>\n",
       "      <td>Free entry in 2 a wkly comp to win FA Cup fina...</td>\n",
       "    </tr>\n",
       "    <tr>\n",
       "      <th>3</th>\n",
       "      <td>ham</td>\n",
       "      <td>U dun say so early hor... U c already then say...</td>\n",
       "    </tr>\n",
       "    <tr>\n",
       "      <th>4</th>\n",
       "      <td>ham</td>\n",
       "      <td>Nah I don't think he goes to usf, he lives aro...</td>\n",
       "    </tr>\n",
       "    <tr>\n",
       "      <th>...</th>\n",
       "      <td>...</td>\n",
       "      <td>...</td>\n",
       "    </tr>\n",
       "    <tr>\n",
       "      <th>5567</th>\n",
       "      <td>spam</td>\n",
       "      <td>This is the 2nd time we have tried 2 contact u...</td>\n",
       "    </tr>\n",
       "    <tr>\n",
       "      <th>5568</th>\n",
       "      <td>ham</td>\n",
       "      <td>Will ü b going to esplanade fr home?</td>\n",
       "    </tr>\n",
       "    <tr>\n",
       "      <th>5569</th>\n",
       "      <td>ham</td>\n",
       "      <td>Pity, * was in mood for that. So...any other s...</td>\n",
       "    </tr>\n",
       "    <tr>\n",
       "      <th>5570</th>\n",
       "      <td>ham</td>\n",
       "      <td>The guy did some bitching but I acted like i'd...</td>\n",
       "    </tr>\n",
       "    <tr>\n",
       "      <th>5571</th>\n",
       "      <td>ham</td>\n",
       "      <td>Rofl. Its true to its name</td>\n",
       "    </tr>\n",
       "  </tbody>\n",
       "</table>\n",
       "<p>5572 rows × 2 columns</p>\n",
       "</div>"
      ],
      "text/plain": [
       "     Label                                            Message\n",
       "0      ham  Go until jurong point, crazy.. Available only ...\n",
       "1      ham                      Ok lar... Joking wif u oni...\n",
       "2     spam  Free entry in 2 a wkly comp to win FA Cup fina...\n",
       "3      ham  U dun say so early hor... U c already then say...\n",
       "4      ham  Nah I don't think he goes to usf, he lives aro...\n",
       "...    ...                                                ...\n",
       "5567  spam  This is the 2nd time we have tried 2 contact u...\n",
       "5568   ham               Will ü b going to esplanade fr home?\n",
       "5569   ham  Pity, * was in mood for that. So...any other s...\n",
       "5570   ham  The guy did some bitching but I acted like i'd...\n",
       "5571   ham                         Rofl. Its true to its name\n",
       "\n",
       "[5572 rows x 2 columns]"
      ]
     },
     "execution_count": 2,
     "metadata": {},
     "output_type": "execute_result"
    }
   ],
   "source": [
    "import pandas as pd\n",
    "data = pd.read_csv(r\"C:\\Users\\HP\\OneDrive\\Desktop\\ML\\Assignment 5\\SMSSpamCollection.csv\",sep=\"\\t\",header=None,names=['Label','Message'])\n",
    "data"
   ]
  },
  {
   "cell_type": "code",
   "execution_count": 3,
   "id": "617ac3db",
   "metadata": {},
   "outputs": [
    {
     "name": "stdout",
     "output_type": "stream",
     "text": [
      "0       go until jurong point crazy available only in ...\n",
      "1                                 ok lar joking wif u oni\n",
      "2       free entry in 2 a wkly comp to win fa cup fina...\n",
      "3             u dun say so early hor u c already then say\n",
      "4       nah i dont think he goes to usf he lives aroun...\n",
      "                              ...                        \n",
      "5567    this is the 2nd time we have tried 2 contact u...\n",
      "5568                  will ü b going to esplanade fr home\n",
      "5569    pity  was in mood for that soany other suggest...\n",
      "5570    the guy did some bitching but i acted like id ...\n",
      "5571                            rofl its true to its name\n",
      "Name: Message, Length: 5572, dtype: object\n",
      "0       102\n",
      "1        23\n",
      "2       149\n",
      "3        43\n",
      "4        59\n",
      "       ... \n",
      "5567    152\n",
      "5568     35\n",
      "5569     50\n",
      "5570    124\n",
      "5571     25\n",
      "Name: Message_Length, Length: 5572, dtype: int64\n",
      "0       20\n",
      "1        6\n",
      "2       28\n",
      "3       11\n",
      "4       13\n",
      "        ..\n",
      "5567    30\n",
      "5568     8\n",
      "5569     9\n",
      "5570    26\n",
      "5571     6\n",
      "Name: Word_Count, Length: 5572, dtype: int64\n"
     ]
    }
   ],
   "source": [
    "from sklearn.preprocessing import LabelEncoder\n",
    "import string\n",
    "data['Label'] = LabelEncoder().fit_transform(data['Label'])\n",
    "\n",
    "data['Message'] = data['Message'].str.lower().str.replace('[{}]'.format(string.punctuation),'',regex=True)\n",
    "data['Message_Length'] = data['Message'].apply(len)\n",
    "data['Word_Count'] = data['Message'].apply(lambda x:len(x.split()))\n",
    "\n",
    "print(data['Message'])\n",
    "print(data['Message_Length'])\n",
    "print(data['Word_Count'])"
   ]
  },
  {
   "cell_type": "code",
   "execution_count": 6,
   "id": "19e1d370",
   "metadata": {},
   "outputs": [],
   "source": [
    "from sklearn.feature_extraction.text import TfidfVectorizer\n",
    "\n",
    "tfidf = TfidfVectorizer(max_features=3000)\n",
    "X_tfidf = tfidf.fit_transform(data['Message']).toarray()\n",
    "\n",
    "import numpy as np\n",
    "X=np.hstack((X_tfidf,data[['Message_Length','Word_Count']].values))\n",
    "y=data['Label']"
   ]
  },
  {
   "cell_type": "code",
   "execution_count": 7,
   "id": "5a168ec1",
   "metadata": {},
   "outputs": [],
   "source": [
    "from sklearn.model_selection import train_test_split\n",
    "x_train,x_test,y_train,y_test = train_test_split(X,y,test_size=0.2,random_state=42)"
   ]
  },
  {
   "cell_type": "code",
   "execution_count": 14,
   "id": "c10e6f2b",
   "metadata": {},
   "outputs": [],
   "source": [
    "from sklearn.preprocessing import MinMaxScaler\n",
    "\n",
    "scaler = MinMaxScaler()\n",
    "x_train = scaler.fit_transform(x_train)\n",
    "x_test = scaler.transform(x_test)\n"
   ]
  },
  {
   "cell_type": "code",
   "execution_count": 17,
   "id": "b1bba921",
   "metadata": {},
   "outputs": [
    {
     "name": "stdout",
     "output_type": "stream",
     "text": [
      "Naive Bayes Classification Report :\n",
      "                precision    recall  f1-score   support\n",
      "\n",
      "           0       0.99      1.00      0.99       966\n",
      "           1       0.98      0.92      0.95       149\n",
      "\n",
      "    accuracy                           0.99      1115\n",
      "   macro avg       0.98      0.96      0.97      1115\n",
      "weighted avg       0.99      0.99      0.99      1115\n",
      "\n",
      "Logistic Regression Classification Report:\n",
      "               precision    recall  f1-score   support\n",
      "\n",
      "           0       0.99      1.00      0.99       966\n",
      "           1       0.98      0.92      0.95       149\n",
      "\n",
      "    accuracy                           0.99      1115\n",
      "   macro avg       0.98      0.96      0.97      1115\n",
      "weighted avg       0.99      0.99      0.99      1115\n",
      "\n"
     ]
    }
   ],
   "source": [
    "from sklearn.naive_bayes import MultinomialNB\n",
    "from sklearn.linear_model import LogisticRegression\n",
    "from sklearn.metrics import classification_report\n",
    "\n",
    "nb_model = MultinomialNB()\n",
    "nb_model.fit(x_train,y_train)\n",
    "y_pred_nb = nb_model.predict(x_test)\n",
    "print(\"Naive Bayes Classification Report :\\n \",classification_report(y_test,y_pred_nb))\n",
    "\n",
    "lr_model = LogisticRegression(max_iter=2000)\n",
    "lr_model.fit(x_train,y_train)\n",
    "y_pred_lr = lr_model.predict(x_test)\n",
    "print(\"Logistic Regression Classification Report:\\n\",classification_report(y_test,y_pred_nb))"
   ]
  },
  {
   "cell_type": "code",
   "execution_count": 18,
   "id": "7539719e",
   "metadata": {},
   "outputs": [
    {
     "name": "stdout",
     "output_type": "stream",
     "text": [
      "Naive Bayes Cross Validation Score: [0.967713   0.95874439 0.95960503 0.95870736 0.96319569]\n",
      "Logistic Regression Cross Validation Score: [0.97040359 0.96412556 0.96588869 0.96858169 0.97217235]\n"
     ]
    }
   ],
   "source": [
    "from sklearn.model_selection import cross_val_score\n",
    "\n",
    "cv_nb = cross_val_score(nb_model,X,y,cv=5)\n",
    "cv_lr = cross_val_score(lr_model,X,y,cv=5)\n",
    "print(\"Naive Bayes Cross Validation Score:\",cv_nb)\n",
    "print(\"Logistic Regression Cross Validation Score:\",cv_lr)"
   ]
  },
  {
   "cell_type": "code",
   "execution_count": 22,
   "id": "6f04f7cf",
   "metadata": {},
   "outputs": [
    {
     "name": "stdout",
     "output_type": "stream",
     "text": [
      "Best Parameters for Naive Bayes : {'alpha': 0.5}\n",
      "Best cross validation F1 score for Naive Bayes : 0.9350003268950896\n",
      "Best Parameters for Logistic Regression : {'C': 100}\n",
      "Best cross validation F1 score for Logistic Regression: 0.931820205937853\n"
     ]
    }
   ],
   "source": [
    "from sklearn.model_selection import GridSearchCV\n",
    "\n",
    "param_grid_nb = {'alpha': [0.01, 0.1, 0.5, 1.0, 2.0]}\n",
    "grid_search_nb = GridSearchCV(nb_model,param_grid_nb,cv=5,scoring='f1')\n",
    "grid_search_nb.fit(x_train,y_train)\n",
    "print(\"Best Parameters for Naive Bayes :\",grid_search_nb.best_params_)\n",
    "print(\"Best cross validation F1 score for Naive Bayes :\",grid_search_nb.best_score_)\n",
    "\n",
    "param_grid_lr = {'C': [0.01, 0.1, 1, 10, 100]}\n",
    "grid_search_lr = GridSearchCV(lr_model,param_grid_lr,cv=5,scoring='f1')\n",
    "grid_search_lr.fit(x_train,y_train)\n",
    "print(\"Best Parameters for Logistic Regression :\",grid_search_lr.best_params_)\n",
    "print(\"Best cross validation F1 score for Logistic Regression:\",grid_search_lr.best_score_)"
   ]
  },
  {
   "cell_type": "code",
   "execution_count": null,
   "id": "9b3160dd",
   "metadata": {},
   "outputs": [],
   "source": []
  }
 ],
 "metadata": {
  "kernelspec": {
   "display_name": "Python 3 (ipykernel)",
   "language": "python",
   "name": "python3"
  },
  "language_info": {
   "codemirror_mode": {
    "name": "ipython",
    "version": 3
   },
   "file_extension": ".py",
   "mimetype": "text/x-python",
   "name": "python",
   "nbconvert_exporter": "python",
   "pygments_lexer": "ipython3",
   "version": "3.10.9"
  }
 },
 "nbformat": 4,
 "nbformat_minor": 5
}
